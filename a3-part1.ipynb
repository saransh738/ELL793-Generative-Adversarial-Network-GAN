{
 "cells": [
  {
   "cell_type": "code",
   "execution_count": 1,
   "metadata": {
    "_cell_guid": "b1076dfc-b9ad-4769-8c92-a6c4dae69d19",
    "_uuid": "8f2839f25d086af736a60e9eeb907d3b93b6e0e5",
    "execution": {
     "iopub.execute_input": "2023-04-25T13:45:46.484524Z",
     "iopub.status.busy": "2023-04-25T13:45:46.483964Z",
     "iopub.status.idle": "2023-04-25T13:45:47.564289Z",
     "shell.execute_reply": "2023-04-25T13:45:47.562867Z",
     "shell.execute_reply.started": "2023-04-25T13:45:46.484489Z"
    }
   },
   "outputs": [
    {
     "name": "stdout",
     "output_type": "stream",
     "text": [
      "fatal: destination path 'stylegan' already exists and is not an empty directory.\n"
     ]
    }
   ],
   "source": [
    "!git clone https://github.com/NVlabs/stylegan.git\n",
    "\n"
   ]
  },
  {
   "cell_type": "code",
   "execution_count": 2,
   "metadata": {
    "execution": {
     "iopub.execute_input": "2023-04-25T13:45:47.575853Z",
     "iopub.status.busy": "2023-04-25T13:45:47.574819Z",
     "iopub.status.idle": "2023-04-25T13:45:47.583831Z",
     "shell.execute_reply": "2023-04-25T13:45:47.582412Z",
     "shell.execute_reply.started": "2023-04-25T13:45:47.575810Z"
    }
   },
   "outputs": [
    {
     "name": "stdout",
     "output_type": "stream",
     "text": [
      "/kaggle/working/stylegan\n"
     ]
    }
   ],
   "source": [
    "cd stylegan\n"
   ]
  },
  {
   "cell_type": "code",
   "execution_count": 3,
   "metadata": {
    "execution": {
     "iopub.execute_input": "2023-04-25T13:45:47.586261Z",
     "iopub.status.busy": "2023-04-25T13:45:47.585766Z",
     "iopub.status.idle": "2023-04-25T13:46:08.391045Z",
     "shell.execute_reply": "2023-04-25T13:46:08.389608Z",
     "shell.execute_reply.started": "2023-04-25T13:45:47.586215Z"
    }
   },
   "outputs": [
    {
     "name": "stdout",
     "output_type": "stream",
     "text": [
      "Requirement already up-to-date: pip==20.2 in /opt/conda/lib/python3.7/site-packages (20.2)\n",
      "\u001b[33mWARNING: You are using pip version 20.2; however, version 23.1.1 is available.\n",
      "You should consider upgrading via the '/opt/conda/bin/python3.7 -m pip install --upgrade pip' command.\u001b[0m\n",
      "Requirement already satisfied: tensorflow-gpu==1.15 in /opt/conda/lib/python3.7/site-packages (1.15.0)\n",
      "Requirement already satisfied: six>=1.10.0 in /opt/conda/lib/python3.7/site-packages (from tensorflow-gpu==1.15) (1.16.0)\n",
      "Requirement already satisfied: wrapt>=1.11.1 in /opt/conda/lib/python3.7/site-packages (from tensorflow-gpu==1.15) (1.14.1)\n",
      "Requirement already satisfied: protobuf>=3.6.1 in /opt/conda/lib/python3.7/site-packages (from tensorflow-gpu==1.15) (3.20.3)\n",
      "Requirement already satisfied: grpcio>=1.8.6 in /opt/conda/lib/python3.7/site-packages (from tensorflow-gpu==1.15) (1.51.1)\n",
      "Requirement already satisfied: keras-applications>=1.0.8 in /opt/conda/lib/python3.7/site-packages (from tensorflow-gpu==1.15) (1.0.8)\n",
      "Requirement already satisfied: gast==0.2.2 in /opt/conda/lib/python3.7/site-packages (from tensorflow-gpu==1.15) (0.2.2)\n",
      "Requirement already satisfied: wheel>=0.26 in /opt/conda/lib/python3.7/site-packages (from tensorflow-gpu==1.15) (0.38.4)\n",
      "Requirement already satisfied: keras-preprocessing>=1.0.5 in /opt/conda/lib/python3.7/site-packages (from tensorflow-gpu==1.15) (1.1.2)\n",
      "Requirement already satisfied: termcolor>=1.1.0 in /opt/conda/lib/python3.7/site-packages (from tensorflow-gpu==1.15) (2.2.0)\n",
      "Requirement already satisfied: opt-einsum>=2.3.2 in /opt/conda/lib/python3.7/site-packages (from tensorflow-gpu==1.15) (3.3.0)\n",
      "Requirement already satisfied: google-pasta>=0.1.6 in /opt/conda/lib/python3.7/site-packages (from tensorflow-gpu==1.15) (0.2.0)\n",
      "Requirement already satisfied: absl-py>=0.7.0 in /opt/conda/lib/python3.7/site-packages (from tensorflow-gpu==1.15) (1.4.0)\n",
      "Requirement already satisfied: numpy<2.0,>=1.16.0 in /opt/conda/lib/python3.7/site-packages (from tensorflow-gpu==1.15) (1.21.6)\n",
      "Requirement already satisfied: tensorboard<1.16.0,>=1.15.0 in /opt/conda/lib/python3.7/site-packages (from tensorflow-gpu==1.15) (1.15.0)\n",
      "Requirement already satisfied: tensorflow-estimator==1.15.1 in /opt/conda/lib/python3.7/site-packages (from tensorflow-gpu==1.15) (1.15.1)\n",
      "Requirement already satisfied: astor>=0.6.0 in /opt/conda/lib/python3.7/site-packages (from tensorflow-gpu==1.15) (0.8.1)\n",
      "Requirement already satisfied: h5py in /opt/conda/lib/python3.7/site-packages (from keras-applications>=1.0.8->tensorflow-gpu==1.15) (3.8.0)\n",
      "Requirement already satisfied: werkzeug>=0.11.15 in /opt/conda/lib/python3.7/site-packages (from tensorboard<1.16.0,>=1.15.0->tensorflow-gpu==1.15) (2.2.3)\n",
      "Requirement already satisfied: markdown>=2.6.8 in /opt/conda/lib/python3.7/site-packages (from tensorboard<1.16.0,>=1.15.0->tensorflow-gpu==1.15) (3.4.1)\n",
      "Requirement already satisfied: setuptools>=41.0.0 in /opt/conda/lib/python3.7/site-packages (from tensorboard<1.16.0,>=1.15.0->tensorflow-gpu==1.15) (59.8.0)\n",
      "Requirement already satisfied: MarkupSafe>=2.1.1 in /opt/conda/lib/python3.7/site-packages (from werkzeug>=0.11.15->tensorboard<1.16.0,>=1.15.0->tensorflow-gpu==1.15) (2.1.1)\n",
      "Requirement already satisfied: importlib-metadata>=4.4; python_version < \"3.10\" in /opt/conda/lib/python3.7/site-packages (from markdown>=2.6.8->tensorboard<1.16.0,>=1.15.0->tensorflow-gpu==1.15) (4.11.4)\n",
      "Requirement already satisfied: typing-extensions>=3.6.4; python_version < \"3.8\" in /opt/conda/lib/python3.7/site-packages (from importlib-metadata>=4.4; python_version < \"3.10\"->markdown>=2.6.8->tensorboard<1.16.0,>=1.15.0->tensorflow-gpu==1.15) (4.4.0)\n",
      "Requirement already satisfied: zipp>=0.5 in /opt/conda/lib/python3.7/site-packages (from importlib-metadata>=4.4; python_version < \"3.10\"->markdown>=2.6.8->tensorboard<1.16.0,>=1.15.0->tensorflow-gpu==1.15) (3.11.0)\n",
      "\u001b[33mWARNING: You are using pip version 20.2; however, version 23.1.1 is available.\n",
      "You should consider upgrading via the '/opt/conda/bin/python3.7 -m pip install --upgrade pip' command.\u001b[0m\n"
     ]
    }
   ],
   "source": [
    "!pip install --upgrade pip==20.2\n",
    "!pip install tensorflow-gpu==1.15\n"
   ]
  },
  {
   "cell_type": "code",
   "execution_count": 4,
   "metadata": {
    "execution": {
     "iopub.execute_input": "2023-04-25T13:46:08.401495Z",
     "iopub.status.busy": "2023-04-25T13:46:08.398713Z",
     "iopub.status.idle": "2023-04-25T13:46:10.372092Z",
     "shell.execute_reply": "2023-04-25T13:46:10.370861Z",
     "shell.execute_reply.started": "2023-04-25T13:46:08.401444Z"
    }
   },
   "outputs": [],
   "source": [
    "import os\n",
    "import pickle\n",
    "import numpy as np\n",
    "import PIL.Image\n",
    "import dnnlib\n",
    "import dnnlib.tflib as tflib\n",
    "import config\n"
   ]
  },
  {
   "cell_type": "code",
   "execution_count": 5,
   "metadata": {
    "execution": {
     "iopub.execute_input": "2023-04-25T13:46:10.374885Z",
     "iopub.status.busy": "2023-04-25T13:46:10.374452Z",
     "iopub.status.idle": "2023-04-25T13:46:21.414002Z",
     "shell.execute_reply": "2023-04-25T13:46:21.412669Z",
     "shell.execute_reply.started": "2023-04-25T13:46:10.374840Z"
    }
   },
   "outputs": [
    {
     "name": "stderr",
     "output_type": "stream",
     "text": [
      "2023-04-25 13:46:10.521887: W tensorflow/stream_executor/platform/default/dso_loader.cc:55] Could not load dynamic library 'libcudart.so.10.0'; dlerror: libcudart.so.10.0: cannot open shared object file: No such file or directory; LD_LIBRARY_PATH: /usr/local/cuda/lib64:/usr/local/cuda/lib:/usr/local/lib/x86_64-linux-gnu:/usr/local/nvidia/lib:/usr/local/nvidia/lib64:/usr/local/nvidia/lib:/usr/local/nvidia/lib64:/opt/conda/lib\n",
      "2023-04-25 13:46:10.522103: W tensorflow/stream_executor/platform/default/dso_loader.cc:55] Could not load dynamic library 'libcublas.so.10.0'; dlerror: libcublas.so.10.0: cannot open shared object file: No such file or directory; LD_LIBRARY_PATH: /usr/local/cuda/lib64:/usr/local/cuda/lib:/usr/local/lib/x86_64-linux-gnu:/usr/local/nvidia/lib:/usr/local/nvidia/lib64:/usr/local/nvidia/lib:/usr/local/nvidia/lib64:/opt/conda/lib\n",
      "2023-04-25 13:46:10.522275: W tensorflow/stream_executor/platform/default/dso_loader.cc:55] Could not load dynamic library 'libcufft.so.10.0'; dlerror: libcufft.so.10.0: cannot open shared object file: No such file or directory; LD_LIBRARY_PATH: /usr/local/cuda/lib64:/usr/local/cuda/lib:/usr/local/lib/x86_64-linux-gnu:/usr/local/nvidia/lib:/usr/local/nvidia/lib64:/usr/local/nvidia/lib:/usr/local/nvidia/lib64:/opt/conda/lib\n",
      "2023-04-25 13:46:10.522441: W tensorflow/stream_executor/platform/default/dso_loader.cc:55] Could not load dynamic library 'libcurand.so.10.0'; dlerror: libcurand.so.10.0: cannot open shared object file: No such file or directory; LD_LIBRARY_PATH: /usr/local/cuda/lib64:/usr/local/cuda/lib:/usr/local/lib/x86_64-linux-gnu:/usr/local/nvidia/lib:/usr/local/nvidia/lib64:/usr/local/nvidia/lib:/usr/local/nvidia/lib64:/opt/conda/lib\n",
      "2023-04-25 13:46:10.522948: W tensorflow/stream_executor/platform/default/dso_loader.cc:55] Could not load dynamic library 'libcusolver.so.10.0'; dlerror: libcusolver.so.10.0: cannot open shared object file: No such file or directory; LD_LIBRARY_PATH: /usr/local/cuda/lib64:/usr/local/cuda/lib:/usr/local/lib/x86_64-linux-gnu:/usr/local/nvidia/lib:/usr/local/nvidia/lib64:/usr/local/nvidia/lib:/usr/local/nvidia/lib64:/opt/conda/lib\n",
      "2023-04-25 13:46:10.523344: W tensorflow/stream_executor/platform/default/dso_loader.cc:55] Could not load dynamic library 'libcusparse.so.10.0'; dlerror: libcusparse.so.10.0: cannot open shared object file: No such file or directory; LD_LIBRARY_PATH: /usr/local/cuda/lib64:/usr/local/cuda/lib:/usr/local/lib/x86_64-linux-gnu:/usr/local/nvidia/lib:/usr/local/nvidia/lib64:/usr/local/nvidia/lib:/usr/local/nvidia/lib64:/opt/conda/lib\n",
      "2023-04-25 13:46:10.523644: W tensorflow/stream_executor/platform/default/dso_loader.cc:55] Could not load dynamic library 'libcudnn.so.7'; dlerror: libcudnn.so.7: cannot open shared object file: No such file or directory; LD_LIBRARY_PATH: /usr/local/cuda/lib64:/usr/local/cuda/lib:/usr/local/lib/x86_64-linux-gnu:/usr/local/nvidia/lib:/usr/local/nvidia/lib64:/usr/local/nvidia/lib:/usr/local/nvidia/lib64:/opt/conda/lib\n",
      "2023-04-25 13:46:10.523673: W tensorflow/core/common_runtime/gpu/gpu_device.cc:1641] Cannot dlopen some GPU libraries. Please make sure the missing libraries mentioned above are installed properly if you would like to use GPU. Follow the guide at https://www.tensorflow.org/install/gpu for how to download and setup the required libraries for your platform.\n",
      "Skipping registering GPU devices...\n"
     ]
    },
    {
     "name": "stdout",
     "output_type": "stream",
     "text": [
      "\n",
      "Gs                              Params    OutputShape          WeightShape     \n",
      "---                             ---       ---                  ---             \n",
      "latents_in                      -         (?, 512)             -               \n",
      "labels_in                       -         (?, 0)               -               \n",
      "lod                             -         ()                   -               \n",
      "dlatent_avg                     -         (512,)               -               \n",
      "G_mapping/latents_in            -         (?, 512)             -               \n",
      "G_mapping/labels_in             -         (?, 0)               -               \n",
      "G_mapping/PixelNorm             -         (?, 512)             -               \n",
      "G_mapping/Dense0                262656    (?, 512)             (512, 512)      \n",
      "G_mapping/Dense1                262656    (?, 512)             (512, 512)      \n",
      "G_mapping/Dense2                262656    (?, 512)             (512, 512)      \n",
      "G_mapping/Dense3                262656    (?, 512)             (512, 512)      \n",
      "G_mapping/Dense4                262656    (?, 512)             (512, 512)      \n",
      "G_mapping/Dense5                262656    (?, 512)             (512, 512)      \n",
      "G_mapping/Dense6                262656    (?, 512)             (512, 512)      \n",
      "G_mapping/Dense7                262656    (?, 512)             (512, 512)      \n",
      "G_mapping/Broadcast             -         (?, 18, 512)         -               \n",
      "G_mapping/dlatents_out          -         (?, 18, 512)         -               \n",
      "Truncation                      -         (?, 18, 512)         -               \n",
      "G_synthesis/dlatents_in         -         (?, 18, 512)         -               \n",
      "G_synthesis/4x4/Const           534528    (?, 512, 4, 4)       (512,)          \n",
      "G_synthesis/4x4/Conv            2885632   (?, 512, 4, 4)       (3, 3, 512, 512)\n",
      "G_synthesis/ToRGB_lod8          1539      (?, 3, 4, 4)         (1, 1, 512, 3)  \n",
      "G_synthesis/8x8/Conv0_up        2885632   (?, 512, 8, 8)       (3, 3, 512, 512)\n",
      "G_synthesis/8x8/Conv1           2885632   (?, 512, 8, 8)       (3, 3, 512, 512)\n",
      "G_synthesis/ToRGB_lod7          1539      (?, 3, 8, 8)         (1, 1, 512, 3)  \n",
      "G_synthesis/Upscale2D           -         (?, 3, 8, 8)         -               \n",
      "G_synthesis/Grow_lod7           -         (?, 3, 8, 8)         -               \n",
      "G_synthesis/16x16/Conv0_up      2885632   (?, 512, 16, 16)     (3, 3, 512, 512)\n",
      "G_synthesis/16x16/Conv1         2885632   (?, 512, 16, 16)     (3, 3, 512, 512)\n",
      "G_synthesis/ToRGB_lod6          1539      (?, 3, 16, 16)       (1, 1, 512, 3)  \n",
      "G_synthesis/Upscale2D_1         -         (?, 3, 16, 16)       -               \n",
      "G_synthesis/Grow_lod6           -         (?, 3, 16, 16)       -               \n",
      "G_synthesis/32x32/Conv0_up      2885632   (?, 512, 32, 32)     (3, 3, 512, 512)\n",
      "G_synthesis/32x32/Conv1         2885632   (?, 512, 32, 32)     (3, 3, 512, 512)\n",
      "G_synthesis/ToRGB_lod5          1539      (?, 3, 32, 32)       (1, 1, 512, 3)  \n",
      "G_synthesis/Upscale2D_2         -         (?, 3, 32, 32)       -               \n",
      "G_synthesis/Grow_lod5           -         (?, 3, 32, 32)       -               \n",
      "G_synthesis/64x64/Conv0_up      1442816   (?, 256, 64, 64)     (3, 3, 512, 256)\n",
      "G_synthesis/64x64/Conv1         852992    (?, 256, 64, 64)     (3, 3, 256, 256)\n",
      "G_synthesis/ToRGB_lod4          771       (?, 3, 64, 64)       (1, 1, 256, 3)  \n",
      "G_synthesis/Upscale2D_3         -         (?, 3, 64, 64)       -               \n",
      "G_synthesis/Grow_lod4           -         (?, 3, 64, 64)       -               \n",
      "G_synthesis/128x128/Conv0_up    426496    (?, 128, 128, 128)   (3, 3, 256, 128)\n",
      "G_synthesis/128x128/Conv1       279040    (?, 128, 128, 128)   (3, 3, 128, 128)\n",
      "G_synthesis/ToRGB_lod3          387       (?, 3, 128, 128)     (1, 1, 128, 3)  \n",
      "G_synthesis/Upscale2D_4         -         (?, 3, 128, 128)     -               \n",
      "G_synthesis/Grow_lod3           -         (?, 3, 128, 128)     -               \n",
      "G_synthesis/256x256/Conv0_up    139520    (?, 64, 256, 256)    (3, 3, 128, 64) \n",
      "G_synthesis/256x256/Conv1       102656    (?, 64, 256, 256)    (3, 3, 64, 64)  \n",
      "G_synthesis/ToRGB_lod2          195       (?, 3, 256, 256)     (1, 1, 64, 3)   \n",
      "G_synthesis/Upscale2D_5         -         (?, 3, 256, 256)     -               \n",
      "G_synthesis/Grow_lod2           -         (?, 3, 256, 256)     -               \n",
      "G_synthesis/512x512/Conv0_up    51328     (?, 32, 512, 512)    (3, 3, 64, 32)  \n",
      "G_synthesis/512x512/Conv1       42112     (?, 32, 512, 512)    (3, 3, 32, 32)  \n",
      "G_synthesis/ToRGB_lod1          99        (?, 3, 512, 512)     (1, 1, 32, 3)   \n",
      "G_synthesis/Upscale2D_6         -         (?, 3, 512, 512)     -               \n",
      "G_synthesis/Grow_lod1           -         (?, 3, 512, 512)     -               \n",
      "G_synthesis/1024x1024/Conv0_up  21056     (?, 16, 1024, 1024)  (3, 3, 32, 16)  \n",
      "G_synthesis/1024x1024/Conv1     18752     (?, 16, 1024, 1024)  (3, 3, 16, 16)  \n",
      "G_synthesis/ToRGB_lod0          51        (?, 3, 1024, 1024)   (1, 1, 16, 3)   \n",
      "G_synthesis/Upscale2D_7         -         (?, 3, 1024, 1024)   -               \n",
      "G_synthesis/Grow_lod0           -         (?, 3, 1024, 1024)   -               \n",
      "G_synthesis/images_out          -         (?, 3, 1024, 1024)   -               \n",
      "G_synthesis/lod                 -         ()                   -               \n",
      "G_synthesis/noise0              -         (1, 1, 4, 4)         -               \n",
      "G_synthesis/noise1              -         (1, 1, 4, 4)         -               \n",
      "G_synthesis/noise2              -         (1, 1, 8, 8)         -               \n",
      "G_synthesis/noise3              -         (1, 1, 8, 8)         -               \n",
      "G_synthesis/noise4              -         (1, 1, 16, 16)       -               \n",
      "G_synthesis/noise5              -         (1, 1, 16, 16)       -               \n",
      "G_synthesis/noise6              -         (1, 1, 32, 32)       -               \n",
      "G_synthesis/noise7              -         (1, 1, 32, 32)       -               \n",
      "G_synthesis/noise8              -         (1, 1, 64, 64)       -               \n",
      "G_synthesis/noise9              -         (1, 1, 64, 64)       -               \n",
      "G_synthesis/noise10             -         (1, 1, 128, 128)     -               \n",
      "G_synthesis/noise11             -         (1, 1, 128, 128)     -               \n",
      "G_synthesis/noise12             -         (1, 1, 256, 256)     -               \n",
      "G_synthesis/noise13             -         (1, 1, 256, 256)     -               \n",
      "G_synthesis/noise14             -         (1, 1, 512, 512)     -               \n",
      "G_synthesis/noise15             -         (1, 1, 512, 512)     -               \n",
      "G_synthesis/noise16             -         (1, 1, 1024, 1024)   -               \n",
      "G_synthesis/noise17             -         (1, 1, 1024, 1024)   -               \n",
      "images_out                      -         (?, 3, 1024, 1024)   -               \n",
      "---                             ---       ---                  ---             \n",
      "Total                           26219627                                       \n",
      "\n"
     ]
    }
   ],
   "source": [
    "# part 1a\n",
    "tflib.init_tf()\n",
    "_G, _D, Gs = pickle.load(open('/kaggle/input/saransh/karras2019stylegan-ffhq-1024x1024.pkl','rb'))\n",
    "Gs.print_layers()\n",
    "\n",
    "import tensorflow as tf\n",
    "\n"
   ]
  },
  {
   "cell_type": "code",
   "execution_count": 11,
   "metadata": {
    "execution": {
     "iopub.execute_input": "2023-04-25T13:59:31.870594Z",
     "iopub.status.busy": "2023-04-25T13:59:31.869236Z",
     "iopub.status.idle": "2023-04-25T13:59:34.720865Z",
     "shell.execute_reply": "2023-04-25T13:59:34.718333Z",
     "shell.execute_reply.started": "2023-04-25T13:59:31.870547Z"
    }
   },
   "outputs": [
    {
     "name": "stdout",
     "output_type": "stream",
     "text": [
      "[[[[-0.45683435 -0.20399195 -1.206372   ...  1.0364239  -0.07009938\n",
      "     1.0424279 ]\n",
      "   [ 1.107865    2.3977664   1.8124753  ... -0.01523588  0.19548818\n",
      "     0.9866782 ]\n",
      "   [ 1.10147    -1.4211909   1.987521   ...  0.1169506  -0.23867512\n",
      "    -0.38604587]\n",
      "   ...\n",
      "   [ 0.9012106   0.5203432   0.49768603 ... -0.5574434   0.26803485\n",
      "     0.05622844]\n",
      "   [ 1.5229168   0.6720213  -0.47867265 ...  0.7455013   0.18428905\n",
      "     0.00866753]\n",
      "   [-2.0651069  -2.6019592   0.82074535 ...  0.4180719  -0.0283604\n",
      "     2.1503925 ]]\n",
      "\n",
      "  [[-0.9495489  -0.6798598   1.1403413  ...  0.67835206 -2.177369\n",
      "     2.2136106 ]\n",
      "   [ 0.6304233   0.05862745 -0.89062184 ... -0.58661425  1.2595974\n",
      "     0.3388388 ]\n",
      "   [ 0.22916374  0.1887568  -1.4562565  ... -0.44717994 -1.9848218\n",
      "     0.3633821 ]\n",
      "   ...\n",
      "   [-0.4778629   0.5912875   0.668814   ... -0.7226262   1.10232\n",
      "     0.29148757]\n",
      "   [-1.356259    0.1401832   0.664807   ... -0.6409763  -0.26875156\n",
      "    -0.03437966]\n",
      "   [ 0.47889152 -0.4195626  -1.3002104  ...  1.5543226   1.1201415\n",
      "     0.45654935]]\n",
      "\n",
      "  [[-0.5405303   0.38238218  0.30036923 ... -0.2701181   1.2255462\n",
      "    -0.8495259 ]\n",
      "   [ 0.91835487 -0.8282816  -0.784481   ... -0.754683    0.9803096\n",
      "    -0.36194378]\n",
      "   [-0.58351964 -2.2732558  -1.4955099  ... -1.3272252  -0.396749\n",
      "     0.2334678 ]\n",
      "   ...\n",
      "   [-0.10552173  1.9630888   0.67653155 ...  1.4332438   1.8753512\n",
      "     1.2992914 ]\n",
      "   [ 2.1812916   1.0812196   0.2124567  ...  0.2640404   0.94992477\n",
      "    -0.13765408]\n",
      "   [-1.1306969  -0.17788959  0.14033677 ... -0.3209624  -1.0081052\n",
      "    -0.89395094]]]\n",
      "\n",
      "\n",
      " [[[ 1.2546661   1.2775173   0.43441832 ...  1.0309614   0.20245624\n",
      "     0.6548621 ]\n",
      "   [-0.09537624 -1.8470498  -0.51069736 ... -0.8925016   0.506457\n",
      "    -0.29354894]\n",
      "   [-0.3245352   0.4387687  -0.17733659 ... -0.5263721   0.53984284\n",
      "     0.19005878]\n",
      "   ...\n",
      "   [-0.38995764  0.04999119 -1.0098213  ...  1.480244   -1.3954958\n",
      "    -0.14504172]\n",
      "   [ 1.5805879  -0.08214414  1.144693   ... -0.18739574 -0.71272457\n",
      "    -0.30741215]\n",
      "   [ 0.4361384   1.1250112   0.09055986 ... -0.33732358  0.00480927\n",
      "    -0.5237496 ]]\n",
      "\n",
      "  [[ 0.8992574   0.03597428  0.896182   ... -0.04610783  1.4412515\n",
      "    -1.1716676 ]\n",
      "   [-0.72908235 -1.0613363   0.21877156 ... -2.2441132   1.5896868\n",
      "    -0.18959908]\n",
      "   [ 0.77873105 -1.2289343   0.76653475 ... -0.83627737 -0.9273374\n",
      "     0.28523216]\n",
      "   ...\n",
      "   [-0.4065353  -0.4178388   0.8669917  ...  1.3536061  -0.29489866\n",
      "     0.68599355]\n",
      "   [ 0.5764045  -1.2136657  -0.55581534 ... -0.38104498 -0.84212285\n",
      "     0.9255091 ]\n",
      "   [-0.14228836 -0.53257054 -0.31650195 ...  0.44719517 -1.1872257\n",
      "    -1.2244362 ]]\n",
      "\n",
      "  [[ 0.2349948   1.1804374   0.46570772 ...  2.0265965  -0.56333286\n",
      "    -0.0774751 ]\n",
      "   [ 0.13728446  0.75945383  0.878376   ...  3.2458594  -0.8490788\n",
      "    -0.38072842]\n",
      "   [-1.2905273  -0.50114256  0.7217338  ...  0.35098338 -2.3056858\n",
      "     0.44277942]\n",
      "   ...\n",
      "   [-0.8976709   0.45769972 -0.4304355  ...  0.5768391   1.8345008\n",
      "    -0.1523869 ]\n",
      "   [ 0.6861245   0.11268666 -0.53159475 ... -0.3628765  -0.2266703\n",
      "    -0.9847107 ]\n",
      "   [ 1.9403677  -0.9378191   0.73037976 ... -1.6991551  -0.76492816\n",
      "     1.0814686 ]]]\n",
      "\n",
      "\n",
      " [[[-1.0832319   0.98995346 -0.20599975 ...  0.43453547 -0.2539423\n",
      "     0.48042205]\n",
      "   [ 0.28063     0.19291675  1.4172225  ...  0.37460563  0.7078168\n",
      "     0.21793112]\n",
      "   [-0.37669405 -0.8195456   1.2729206  ... -0.35722077  0.17804234\n",
      "    -0.08616618]\n",
      "   ...\n",
      "   [-1.7132876  -0.3241685   0.17118607 ... -0.14089973 -0.24280821\n",
      "     3.0605466 ]\n",
      "   [ 0.45827538  0.30652723 -0.26049608 ...  0.03532612  0.94419503\n",
      "    -0.3595167 ]\n",
      "   [-0.28941545  1.2142198  -0.39980182 ... -0.8396419   0.03878773\n",
      "    -0.19025421]]\n",
      "\n",
      "  [[ 1.6273253   1.145018    1.0381268  ...  0.33529225  0.04991236\n",
      "     0.7094331 ]\n",
      "   [ 0.03852826  0.05117996 -1.1154135  ... -0.7557239  -1.1916219\n",
      "     2.1827295 ]\n",
      "   [-1.4283867   0.12314359 -0.9238441  ...  1.7444404  -0.6145632\n",
      "     0.34709948]\n",
      "   ...\n",
      "   [-1.0888665  -1.3579942   1.6978971  ... -0.90290827  0.64646536\n",
      "    -1.2388778 ]\n",
      "   [-0.3840786  -0.39524952  0.11123842 ...  1.6293036  -1.687415\n",
      "    -0.99345475]\n",
      "   [-0.33591586  0.669018   -0.35280538 ... -1.1481835  -0.27864847\n",
      "     0.1446966 ]]\n",
      "\n",
      "  [[-0.21346802  0.05653718  0.87376374 ...  0.5132721  -1.0745746\n",
      "     1.0828267 ]\n",
      "   [ 0.5265717  -0.655399   -0.8846628  ... -0.25381586 -0.23147799\n",
      "     0.3736128 ]\n",
      "   [ 1.0480407  -1.1867495  -0.70605665 ...  0.3744697   0.82473814\n",
      "    -0.3716148 ]\n",
      "   ...\n",
      "   [ 0.36447793 -0.00733348 -0.2077872  ... -0.70186955  0.4657593\n",
      "    -0.63020974]\n",
      "   [-0.05356725  1.0212015   0.15375592 ... -0.9420044  -0.36015448\n",
      "    -0.78025424]\n",
      "   [-1.0639113   0.76957667 -0.6503748  ... -0.42694148 -1.3341608\n",
      "    -1.4755648 ]]]]\n",
      "[0. 0. 0. 0. 0. 0. 0. 0. 0. 0. 0. 0. 0. 0. 0. 0. 0. 0. 0. 0. 0. 0. 0. 0.\n",
      " 0. 0. 0. 0. 0. 0. 0. 0. 0. 0. 0. 0. 0. 0. 0. 0. 0. 0. 0. 0. 0. 0. 0. 0.\n",
      " 0. 0. 0. 0. 0. 0. 0. 0. 0. 0. 0. 0. 0. 0. 0. 0. 0. 0. 0. 0. 0. 0. 0. 0.\n",
      " 0. 0. 0. 0. 0. 0. 0. 0. 0. 0. 0. 0. 0. 0. 0. 0. 0. 0. 0. 0. 0. 0. 0. 0.\n",
      " 0. 0. 0. 0. 0. 0. 0. 0. 0. 0. 0. 0. 0. 0. 0. 0. 0. 0. 0. 0. 0. 0. 0. 0.\n",
      " 0. 0. 0. 0. 0. 0. 0. 0. 0. 0. 0. 0. 0. 0. 0. 0. 0. 0. 0. 0. 0. 0. 0. 0.\n",
      " 0. 0. 0. 0. 0. 0. 0. 0. 0. 0. 0. 0. 0. 0. 0. 0. 0. 0. 0. 0. 0. 0. 0. 0.\n",
      " 0. 0. 0. 0. 0. 0. 0. 0. 0. 0. 0. 0. 0. 0. 0. 0. 0. 0. 0. 0. 0. 0. 0. 0.\n",
      " 0. 0. 0. 0. 0. 0. 0. 0. 0. 0. 0. 0. 0. 0. 0. 0. 0. 0. 0. 0. 0. 0. 0. 0.\n",
      " 0. 0. 0. 0. 0. 0. 0. 0. 0. 0. 0. 0. 0. 0. 0. 0. 0. 0. 0. 0. 0. 0. 0. 0.\n",
      " 0. 0. 0. 0. 0. 0. 0. 0. 0. 0. 0. 0. 0. 0. 0. 0. 0. 0. 0. 0. 0. 0. 0. 0.\n",
      " 0. 0. 0. 0. 0. 0. 0. 0. 0. 0. 0. 0. 0. 0. 0. 0. 0. 0. 0. 0. 0. 0. 0. 0.\n",
      " 0. 0. 0. 0. 0. 0. 0. 0. 0. 0. 0. 0. 0. 0. 0. 0. 0. 0. 0. 0. 0. 0. 0. 0.\n",
      " 0. 0. 0. 0. 0. 0. 0. 0. 0. 0. 0. 0. 0. 0. 0. 0. 0. 0. 0. 0. 0. 0. 0. 0.\n",
      " 0. 0. 0. 0. 0. 0. 0. 0. 0. 0. 0. 0. 0. 0. 0. 0. 0. 0. 0. 0. 0. 0. 0. 0.\n",
      " 0. 0. 0. 0. 0. 0. 0. 0. 0. 0. 0. 0. 0. 0. 0. 0. 0. 0. 0. 0. 0. 0. 0. 0.\n",
      " 0. 0. 0. 0. 0. 0. 0. 0. 0. 0. 0. 0. 0. 0. 0. 0. 0. 0. 0. 0. 0. 0. 0. 0.\n",
      " 0. 0. 0. 0. 0. 0. 0. 0. 0. 0. 0. 0. 0. 0. 0. 0. 0. 0. 0. 0. 0. 0. 0. 0.\n",
      " 0. 0. 0. 0. 0. 0. 0. 0. 0. 0. 0. 0. 0. 0. 0. 0. 0. 0. 0. 0. 0. 0. 0. 0.\n",
      " 0. 0. 0. 0. 0. 0. 0. 0. 0. 0. 0. 0. 0. 0. 0. 0. 0. 0. 0. 0. 0. 0. 0. 0.\n",
      " 0. 0. 0. 0. 0. 0. 0. 0. 0. 0. 0. 0. 0. 0. 0. 0. 0. 0. 0. 0. 0. 0. 0. 0.\n",
      " 0. 0. 0. 0. 0. 0. 0. 0.]\n"
     ]
    }
   ],
   "source": [
    "\n",
    "Gs.list_layers()\n",
    "\n",
    "with tf.Session() as sess:\n",
    "   \n",
    "    sess.run(tf.global_variables_initializer())\n",
    "    \n",
    "    layer_weights = tf.get_default_graph().get_tensor_by_name('G_synthesis/4x4/Conv/weight:0')\n",
    "    biases = tf.get_default_graph().get_tensor_by_name('G_synthesis/4x4/Conv/bias:0')\n",
    "    print(layer_weights.eval())\n",
    "    print(biases.eval())\n"
   ]
  },
  {
   "cell_type": "code",
   "execution_count": null,
   "metadata": {},
   "outputs": [],
   "source": [
    "# part 1b\n",
    "layer = 8  \n",
    "\n",
    "# Generate two random latent vectors\n",
    "latent_size = Gs.input_shape[1]\n",
    "latents1 = np.random.randn(1, latent_size)\n",
    "latents2 = np.random.randn(1, latent_size)\n",
    "\n",
    "# Generate images from both latent vectors\n",
    "with tf.device('/cpu:0'):\n",
    "    images1 = Gs.run(latents1, None, truncation_psi=0.7, randomize_noise=True, output_transform=dict(func=tflib.convert_images_to_uint8, nchw_to_nhwc=True))\n",
    "    images2 = Gs.run(latents2, None, truncation_psi=0.7, randomize_noise=True, output_transform=dict(func=tflib.convert_images_to_uint8, nchw_to_nhwc=True))\n",
    "\n",
    "# Perform style mixing between the two latent vectors\n",
    "dlatent1 = Gs.components.mapping.run(latents1, None)\n",
    "dlatent2 = Gs.components.mapping.run(latents2, None)\n",
    "dlatent_mix = np.concatenate((dlatent1[:, :layer], dlatent2[:, layer:]), axis=1)\n",
    "\n",
    "with tf.device('/cpu:0'):\n",
    "    images_mix = Gs.components.synthesis.run(dlatent_mix, randomize_noise=True, output_transform=dict(func=tflib.convert_images_to_uint8, nchw_to_nhwc=True))\n",
    "\n",
    "# Display the generated images\n",
    "from PIL import Image\n",
    "Image.fromarray(images1[0], 'RGB').show()\n",
    "Image.fromarray(images2[0], 'RGB').show()\n",
    "Image.fromarray(images_mix[0], 'RGB').show()"
   ]
  },
  {
   "cell_type": "code",
   "execution_count": 14,
   "metadata": {
    "execution": {
     "iopub.execute_input": "2023-04-25T14:03:59.024019Z",
     "iopub.status.busy": "2023-04-25T14:03:59.022891Z",
     "iopub.status.idle": "2023-04-25T14:04:01.565889Z",
     "shell.execute_reply": "2023-04-25T14:04:01.564518Z",
     "shell.execute_reply.started": "2023-04-25T14:03:59.023977Z"
    }
   },
   "outputs": [
    {
     "name": "stdout",
     "output_type": "stream",
     "text": [
      "[[[[-0.53808254 -0.4457194   0.8153907 ]\n",
      "   [-0.81344473  0.9510818   0.41592908]\n",
      "   [-0.8689108   0.05683148  0.47085947]\n",
      "   ...\n",
      "   [-2.1535792   0.7405902  -1.3714038 ]\n",
      "   [-1.1777053   1.1387714  -0.49882436]\n",
      "   [ 0.43906003 -1.6398451   0.13521947]]]]\n"
     ]
    }
   ],
   "source": [
    "#part 1 c)\n",
    "with tf.Session() as sess:\n",
    "    sess.run(tf.global_variables_initializer())\n",
    "    layer_weights = tf.get_default_graph().get_tensor_by_name('G_synthesis_1/ToRGB_lod8/weight:0')\n",
    "    print(layer_weights.eval())"
   ]
  },
  {
   "cell_type": "code",
   "execution_count": null,
   "metadata": {},
   "outputs": [],
   "source": [
    "# part 1f\n",
    "# for three latents\n",
    "layer = 8  \n",
    "\n",
    "# Generate two random latent vectors\n",
    "latent_size = Gs.input_shape[1]\n",
    "latents1 = np.random.randn(1, latent_size)\n",
    "latents2 = np.random.randn(1, latent_size)\n",
    "latents3 = np.random.randn(1, latent_size)\n",
    "\n",
    "# Generate images from both latent vectors\n",
    "with tf.device('/cpu:0'):\n",
    "    images1 = Gs.run(latents1, None, truncation_psi=0.7, randomize_noise=True, output_transform=dict(func=tflib.convert_images_to_uint8, nchw_to_nhwc=True))\n",
    "    images2 = Gs.run(latents2, None, truncation_psi=0.7, randomize_noise=True, output_transform=dict(func=tflib.convert_images_to_uint8, nchw_to_nhwc=True))\n",
    "    images3 = Gs.run(latents3, None, truncation_psi=0.7, randomize_noise=True, output_transform=dict(func=tflib.convert_images_to_uint8, nchw_to_nhwc=True))\n",
    "\n",
    "# Perform style mixing between the two latent vectors\n",
    "dlatent1 = Gs.components.mapping.run(latents1, None)\n",
    "dlatent2 = Gs.components.mapping.run(latents2, None)\n",
    "dlatent3 = Gs.components.mapping.run(latents3, None)\n",
    "dlatent_mix = np.concatenate((dlatent1[:, :layer], dlatent2[:, layer:], dlatent3[:, layer:]), axis=1)\n",
    "\n",
    "with tf.device('/cpu:0'):\n",
    "    images_mix = Gs.components.synthesis.run(dlatent_mix, randomize_noise=True, output_transform=dict(func=tflib.convert_images_to_uint8, nchw_to_nhwc=True))\n",
    "\n",
    "# Display the generated images\n",
    "from PIL import Image\n",
    "Image.fromarray(images1[0], 'RGB').show()\n",
    "Image.fromarray(images2[0], 'RGB').show()\n",
    "Image.fromarray(images3[0], 'RGB').show()\n",
    "Image.fromarray(images_mix[0], 'RGB').show()"
   ]
  }
 ],
 "metadata": {
  "kernelspec": {
   "display_name": "Python 3 (ipykernel)",
   "language": "python",
   "name": "python3"
  },
  "language_info": {
   "codemirror_mode": {
    "name": "ipython",
    "version": 3
   },
   "file_extension": ".py",
   "mimetype": "text/x-python",
   "name": "python",
   "nbconvert_exporter": "python",
   "pygments_lexer": "ipython3",
   "version": "3.9.13"
  }
 },
 "nbformat": 4,
 "nbformat_minor": 4
}
